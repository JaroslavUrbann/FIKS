{
 "cells": [
  {
   "cell_type": "code",
   "execution_count": null,
   "metadata": {},
   "outputs": [
    {
     "name": "stdout",
     "output_type": "stream",
     "text": [
      "12\n",
      "2222-08-06\n"
     ]
    }
   ],
   "source": [
    "def paska():\n",
    "    pass\n",
    "\n",
    "\n",
    "from random import randrange\n",
    "from datetime import timedelta\n",
    "import datetime\n",
    "\n",
    "def random_date(start, end):\n",
    "    delta = end - start\n",
    "    int_delta = (delta.days * 24 * 60 * 60) + delta.seconds\n",
    "    random_second = randrange(int_delta)\n",
    "    return start + timedelta(seconds=random_second)\n",
    "\n",
    "\n",
    "print(datetime.date(2000, 12, 12).day)\n",
    "print(random_date(datetime.date(2000, 12, 12), datetime.date(3000, 12, 12)))\n",
    "\n",
    "def calendar():\n",
    "    with open(\"in.txt\", \"w\") as file:\n",
    "        file.write(\"1000\\n\")\n",
    "        for i in range(10000):\n",
    "            date = datetime.date(1984, 8, 20) + timedelta(days=i)\n",
    "            file.write(str(date.day) + \" \" + str(date.month) + \" \" + str(date.year) + \"\\n\")\n",
    "\n",
    "calendar()\n",
    "        "
   ]
  }
 ],
 "metadata": {
  "kernelspec": {
   "display_name": "Python 3",
   "language": "python",
   "name": "python3"
  },
  "language_info": {
   "codemirror_mode": {
    "name": "ipython",
    "version": 3
   },
   "file_extension": ".py",
   "mimetype": "text/x-python",
   "name": "python",
   "nbconvert_exporter": "python",
   "pygments_lexer": "ipython3",
   "version": "3.6.5"
  }
 },
 "nbformat": 4,
 "nbformat_minor": 2
}
