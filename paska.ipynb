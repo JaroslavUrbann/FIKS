{
 "cells": [
  {
   "cell_type": "code",
   "execution_count": 299,
   "metadata": {},
   "outputs": [
    {
     "ename": "ValueError",
     "evalue": "negative shift count",
     "output_type": "error",
     "traceback": [
      "\u001b[1;31m---------------------------------------------------------------------------\u001b[0m",
      "\u001b[1;31mValueError\u001b[0m                                Traceback (most recent call last)",
      "\u001b[1;32m<ipython-input-299-91795ccae87b>\u001b[0m in \u001b[0;36m<module>\u001b[1;34m()\u001b[0m\n\u001b[0;32m      4\u001b[0m \u001b[1;31m# for i in range(1000000):\u001b[0m\u001b[1;33m\u001b[0m\u001b[1;33m\u001b[0m\u001b[0m\n\u001b[0;32m      5\u001b[0m \u001b[1;31m#     thisset.add((0, 0))\u001b[0m\u001b[1;33m\u001b[0m\u001b[1;33m\u001b[0m\u001b[0m\n\u001b[1;32m----> 6\u001b[1;33m \u001b[0mprint\u001b[0m\u001b[1;33m(\u001b[0m\u001b[1;36m1\u001b[0m \u001b[1;33m<<\u001b[0m \u001b[1;33m(\u001b[0m\u001b[1;36m1\u001b[0m \u001b[1;33m<<\u001b[0m \u001b[1;36m0\u001b[0m \u001b[1;33m-\u001b[0m \u001b[1;36m1\u001b[0m\u001b[1;33m)\u001b[0m\u001b[1;33m)\u001b[0m\u001b[1;33m\u001b[0m\u001b[0m\n\u001b[0m",
      "\u001b[1;31mValueError\u001b[0m: negative shift count"
     ]
    }
   ],
   "source": [
    "# import time\n",
    "# start_time = time.time()\n",
    "# thisset = set()\n",
    "# for i in range(1000000):\n",
    "#     thisset.add((0, 0))\n",
    "print(1 << (1 << 0 - 1))"
   ]
  },
  {
   "cell_type": "code",
   "execution_count": 1,
   "metadata": {
    "scrolled": false
   },
   "outputs": [
    {
     "name": "stdout",
     "output_type": "stream",
     "text": [
      "0.006997346878051758\n",
      "0.003998279571533203\n",
      "0.0009996891021728516\n",
      "0.3478872776031494\n",
      "5\n",
      "199.41\n"
     ]
    },
    {
     "data": {
      "text/plain": [
       "<Figure size 640x480 with 1 Axes>"
      ]
     },
     "metadata": {},
     "output_type": "display_data"
    }
   ],
   "source": [
    "from matplotlib import pyplot as plt\n",
    "from random import randint\n",
    "import time\n",
    "import fileinput\n",
    "import sys\n",
    "\n",
    "TURN_LEFT, TURN_RIGHT, TURN_NONE = (1, -1, 0)\n",
    "\n",
    "\n",
    "def turn(p, q, r):\n",
    "    a = (q[0] - p[0])*(r[1] - p[1]) - (r[0] - p[0])*(q[1] - p[1])\n",
    "    return (a > 0) - (a < 0)\n",
    "\n",
    "\n",
    "def dist(p, q):\n",
    "    return ((p[0] - q[0])**2 + (p[1] - q[1])**2)**0.5;\n",
    "\n",
    "\n",
    "def add_hull_point(hull, r):\n",
    "    # dokud nejedeme doleva odstraňuj elementy z hull\n",
    "    while len(hull) > 1 and turn(hull[-2], hull[-1], r) != TURN_LEFT:\n",
    "            hull.pop()\n",
    "    # pokud tenhle bod neni ten první tak ho přidej\n",
    "    if not len(hull) or hull[-1] != r:\n",
    "        hull.append(r)\n",
    "    return hull\n",
    "\n",
    "\n",
    "def graham_scan(points):\n",
    "    points.sort()\n",
    "    right_hull = []\n",
    "    left_hull = []\n",
    "    for point1, point2 in zip(points, reversed(points)):\n",
    "        right_hull = add_hull_point(right_hull, point1)\n",
    "        left_hull = add_hull_point(left_hull, point2)\n",
    "    return right_hull + left_hull[1:-1]\n",
    "\n",
    "\n",
    "def min_hull_pt_pair(hulls):\n",
    "    s = time.time()\n",
    "    h, p = 0, 0\n",
    "    for i in range(len(hulls)):\n",
    "        j = min(range(len(hulls[i])), key=lambda l: hulls[i][l])\n",
    "        if hulls[i][j] < hulls[h][p]:\n",
    "            h, p = i, j\n",
    "    print(time.time() - s)\n",
    "    return (h, p)\n",
    "\n",
    "\n",
    "def rtangent(hull, p):\n",
    "    # tady byly ty srandy zase btw\n",
    "    l, r = 0, len(hull)\n",
    "    # zjistim, kam zatáčim když pujdu: bod v kterym jsem -> 1. bod pod-obalu -> další/předchozí bod pod-obalu\n",
    "    l_prev = turn(p, hull[0], hull[-1])  # bod v ktery teď jsem, první bod v pod-obalu, poslední bod v pod-obalu\n",
    "    l_next = turn(p, hull[0], hull[1 % r]) # bod v ktery teď jsem, první bod v pod-obalu, druhej bod v pod-obalu\n",
    "    while l < r:\n",
    "        c = (l + r) // 2\n",
    "        c_prev = turn(p, hull[c], hull[(c - 1) % len(hull)])\n",
    "        c_next = turn(p, hull[c], hull[(c + 1) % len(hull)])\n",
    "        c_side = turn(p, hull[l], hull[c])\n",
    "        if c_prev != TURN_RIGHT and c_next != TURN_RIGHT: # pokud ani předchozí, ani následující bod nejde doleva, tak ten na kterym jsem teď je optimální z celýho tohohle pod-obalu\n",
    "            return c % len(hull)\n",
    "        elif c_side == TURN_LEFT and (l_next == TURN_RIGHT or l_prev == l_next) or \\\n",
    "            (c_side == TURN_RIGHT and c_prev == TURN_RIGHT):\n",
    "            r = c               # Tangent touches left chain\n",
    "        else:\n",
    "            l = c + 1           # Tangent touches right chain\n",
    "            l_prev = -c_next\n",
    "            l_next = turn(p, hull[l % len(hull)], hull[(l + 1) % len(hull)])\n",
    "    return l % len(hull)\n",
    "\n",
    "\n",
    "def next_hull_pt_pair(hulls, pair):\n",
    "    p = hulls[pair[0]][pair[1]]\n",
    "#                         když je index bodu v obalu větší než dýlka obalu ?? naaah\n",
    "    next_p = (pair[0], (pair[1] + 1) % len(hulls[pair[0]]))\n",
    "    #projede všechny pod-obaly, pokud v některym z nich je bod kterej jde víc doprava než ten další v pod-obalu ve kterym se nachází momentální bod, tak to je další bod\n",
    "    for h in range(len(hulls)):\n",
    "        if h != pair[0]:\n",
    "            s = rtangent(hulls[h], p) # vrátí index nejlepšího dalšího bodu v pod-obalu i indexem h\n",
    "            q, r = hulls[next_p[0]][next_p[1]], hulls[h][s]\n",
    "#             print(p)\n",
    "#             print(\"další bod v týhle hull: [\" + str(q[0]) + \":\" + str(q[1]) + \"] ideální bod v další hull: [\" + str(r[0]) + \":\" + str(r[1]) + \"]\")\n",
    "            t = turn(p, q, r)\n",
    "            if t == TURN_RIGHT or (t == TURN_NONE and dist(p, r) > dist(p, q)):\n",
    "                next_p = (h, s)\n",
    "    return next_p\n",
    "\n",
    "\n",
    "def hull(points):\n",
    "    for t in range(len(points)):\n",
    "        m = min(len(points), 1 << (1 << t))\n",
    "        diameter = 0\n",
    "        hulls = []\n",
    "        i = 0\n",
    "        while i < len(points):\n",
    "            hulls.append(graham_scan(points[i:i + m]))\n",
    "            i += m\n",
    "        main_hull = [min_hull_pt_pair(hulls)]\n",
    "#         print(m)\n",
    "#             print(hulls)\n",
    "        for a in range(m):\n",
    "            p = next_hull_pt_pair(hulls, main_hull[-1])\n",
    "#                 print(hulls[p[0]][p[1]])\n",
    "            diameter += dist(hulls[main_hull[-1][0]][main_hull[-1][1]], hulls[p[0]][p[1]])\n",
    "            if p == main_hull[0]:\n",
    "                return \"%.2f\" % diameter\n",
    "            main_hull.append(p)\n",
    "\n",
    "               \n",
    "def random_points(ct):\n",
    "    return [[randint(0, 50), randint(0, 50)] for _ in range (ct)]\n",
    "\n",
    "\n",
    "def plot_points(points, convex_hull=None):\n",
    "    xs, ys = zip(*points)\n",
    "    plt.scatter(xs, ys)\n",
    "    \n",
    "    if convex_hull!=None:\n",
    "        for i in range(1,len(convex_hull)+1):\n",
    "            if i==len(convex_hull): i=0 # wrap\n",
    "            c0=convex_hull[i-1]\n",
    "            c1=convex_hull[i]\n",
    "            plt.plot((c0[0],c1[0]),(c0[1],c1[1]),'r')\n",
    "    plt.show()\n",
    "\n",
    "points = random_points(10000)\n",
    "# points = [[-4, 3], [-3, 1], [-1, 1], [0, 3], [-2, 4], [-1, 2], [3, 2], [6, 2], [6, 6], [2, 5], [0,4], [0, 0], [1, -2], [1, 1]]\n",
    "# print(points)\n",
    "\n",
    "start_time = time.time()\n",
    "hull, diameter = hull(points)\n",
    "print(time.time()- start_time)\n",
    "\n",
    "print(len(hull))\n",
    "print(diameter)\n",
    "plot_points(points, hull)\n",
    "\n",
    "# neotestováno\n",
    "# python paska.py paska_input.txt > vystup.txt\n",
    "# if __name__ == \"__main__\":\n",
    "#     unique_coordinates = set()\n",
    "#     for line in fileinput.input():\n",
    "#         if not fileinput.isfirstline():\n",
    "#             numbers = line.split(\" \", 1)[1]\n",
    "#             it = iter(numbers)\n",
    "#             unique_coordinates.update(zip(it, it)\n",
    "#     sys.stdout.write(hull(unique_coordinates)[1] + \"\\n\")"
   ]
  },
  {
   "cell_type": "code",
   "execution_count": 64,
   "metadata": {},
   "outputs": [
    {
     "data": {
      "image/png": "[encoded data removed]",
      "text/plain": [
       "<Figure size 432x288 with 1 Axes>"
      ]
     },
     "metadata": {},
     "output_type": "display_data"
    },
    {
     "data": {
      "image/png": "[encoded data removed]",
      "text/plain": [
       "<Figure size 432x288 with 1 Axes>"
      ]
     },
     "metadata": {},
     "output_type": "display_data"
    }
   ],
   "source": [
    "def plot_points(points, convex_hull=None):\n",
    "    xs, ys = zip(*points)\n",
    "    plt.scatter(xs, ys)\n",
    "    \n",
    "    if convex_hull!=None:\n",
    "        for i in range(1,len(convex_hull)+1):\n",
    "            if i==len(convex_hull): i=0 # wrap\n",
    "            c0=convex_hull[i-1]\n",
    "            c1=convex_hull[i]\n",
    "            plt.plot((c0[0],c1[0]),(c0[1],c1[1]),'r')\n",
    "    plt.show()\n",
    "\n",
    "stuff = [[7, 14], [7, 42], [17, 38], [49, 14], [23, 0], [6, 28], [26, 24], [27, 6]]\n",
    "plot_points(stuff,\n",
    "            [[7, 14], [23, 0], [49, 14], [17, 38], [7, 42]])\n",
    "plot_points(stuff,\n",
    "            [[6, 28], [27, 6], [26, 24]])"
   ]
  }
 ],
 "metadata": {
  "kernelspec": {
   "display_name": "Python 3",
   "language": "python",
   "name": "python3"
  },
  "language_info": {
   "codemirror_mode": {
    "name": "ipython",
    "version": 3
   },
   "file_extension": ".py",
   "mimetype": "text/x-python",
   "name": "python",
   "nbconvert_exporter": "python",
   "pygments_lexer": "ipython3",
   "version": "3.6.5"
  }
 },
 "nbformat": 4,
 "nbformat_minor": 2
}
